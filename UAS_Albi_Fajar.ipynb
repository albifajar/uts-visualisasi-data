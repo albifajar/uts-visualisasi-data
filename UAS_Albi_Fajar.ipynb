{
  "nbformat": 4,
  "nbformat_minor": 0,
  "metadata": {
    "colab": {
      "provenance": [],
      "authorship_tag": "ABX9TyNutnQH1GONIavWHcdlD0a8",
      "include_colab_link": true
    },
    "kernelspec": {
      "name": "python3",
      "display_name": "Python 3"
    },
    "language_info": {
      "name": "python"
    }
  },
  "cells": [
    {
      "cell_type": "markdown",
      "metadata": {
        "id": "view-in-github",
        "colab_type": "text"
      },
      "source": [
        "<a href=\"https://colab.research.google.com/github/albifajar/uts-visualisasi-data/blob/main/UAS_Albi_Fajar.ipynb\" target=\"_parent\"><img src=\"https://colab.research.google.com/assets/colab-badge.svg\" alt=\"Open In Colab\"/></a>"
      ]
    },
    {
      "cell_type": "code",
      "execution_count": 2,
      "metadata": {
        "id": "bw_z5iPL2Us2"
      },
      "outputs": [],
      "source": [
        "import pandas as pd\n",
        "import matplotlib.pyplot as plt\n",
        "import numpy as np\n",
        "from matplotlib.ticker import PercentFormatter\n"
      ]
    },
    {
      "cell_type": "code",
      "source": [
        "df_kbulanan = pd.read_csv(\"/content/kebutuhan_per_bulan_2.csv\")"
      ],
      "metadata": {
        "id": "fkMFYxqx5OxV"
      },
      "execution_count": 4,
      "outputs": []
    },
    {
      "cell_type": "code",
      "source": [
        "df_kbulanan"
      ],
      "metadata": {
        "id": "nGW_KyJb5xfE"
      },
      "execution_count": null,
      "outputs": []
    },
    {
      "cell_type": "code",
      "source": [
        "df = pd.DataFrame(df_kbulanan)\n",
        "# Mengambil data hanya untuk provinsi tertentu (misalnya 'Jawa Barat')\n",
        "provinsi_tertentu = 'SUMATERA UTARA'\n",
        "df_provinsi_tertentu = df.loc[df['Propinsi'] == provinsi_tertentu]\n",
        "\n",
        "x = df_provinsi_tertentu['tahun']  # Data untuk sumbu x\n",
        "y = df_provinsi_tertentu['kebutuhan'] # Data untuk sumbu y\n",
        "\n",
        "plt.title(f'STATISTIK KEBUTUHAN {provinsi_tertentu}')\n",
        "plt.xlabel(\"Tahun\")\n",
        "plt.ylabel(\"Kebutuhan\")\n",
        "\n",
        "plt.scatter(x, y, color='#D04', marker='s')\n",
        "\n",
        "plt.xlim(min(x), max(x))\n",
        "# Menampilkan data provinsi tertentu\n",
        "\n",
        "plt.show()"
      ],
      "metadata": {
        "id": "EmB5JNOXKGNy"
      },
      "execution_count": null,
      "outputs": []
    }
  ]
}